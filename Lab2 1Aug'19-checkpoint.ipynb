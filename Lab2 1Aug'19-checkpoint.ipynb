{
 "cells": [
  {
   "cell_type": "markdown",
   "metadata": {},
   "source": [
    "# Lab2 1Aug'19"
   ]
  },
  {
   "cell_type": "code",
   "execution_count": 1,
   "metadata": {},
   "outputs": [
    {
     "name": "stdout",
     "output_type": "stream",
     "text": [
      "h\n",
      "is i\n",
      "is is banasthali Vidyapith\n",
      "this i\n",
      "ya\n",
      "this is banasthali Vidyapit\n",
      "t\n",
      "h\n",
      "i\n",
      "s\n",
      " \n",
      "i\n",
      "s\n",
      " \n",
      "b\n",
      "a\n",
      "n\n",
      "a\n",
      "s\n",
      "t\n",
      "h\n",
      "a\n",
      "l\n",
      "i\n",
      " \n",
      "V\n",
      "i\n",
      "d\n",
      "y\n",
      "a\n",
      "p\n",
      "i\n",
      "t\n",
      "h\n"
     ]
    }
   ],
   "source": [
    "str=\"this is banasthali Vidyapith\"\n",
    "print(str[1])\n",
    "print(str[2:6])\n",
    "print(str[2:])\n",
    "print(str[:6])\n",
    "print(str[-6:-4])\n",
    "print(str[:-1])\n",
    "for ch in str:\n",
    "    print(ch)"
   ]
  },
  {
   "cell_type": "code",
   "execution_count": 7,
   "metadata": {},
   "outputs": [
    {
     "name": "stdout",
     "output_type": "stream",
     "text": [
      "['this', 'is', 'banasthali', 'Vidyapith']\n",
      "4\n",
      "is\n",
      "['th', 's ', 's banasthal', ' V', 'dyap', 'th']\n",
      "6\n"
     ]
    }
   ],
   "source": [
    "lstr=str.split(\" \")\n",
    "print(lstr)\n",
    "print(len(lstr))\n",
    "print(lstr[1])\n",
    "lstr=str.split(\"i\")\n",
    "print(lstr)\n",
    "print(len(lstr))"
   ]
  },
  {
   "cell_type": "code",
   "execution_count": 9,
   "metadata": {},
   "outputs": [
    {
     "name": "stdout",
     "output_type": "stream",
     "text": [
      "[1, 2, 3, 4]\n",
      "4\n"
     ]
    }
   ],
   "source": [
    "lst=[1,2,3,4]\n",
    "print(lst)\n",
    "print(len(lst))"
   ]
  },
  {
   "cell_type": "code",
   "execution_count": 13,
   "metadata": {},
   "outputs": [
    {
     "name": "stdout",
     "output_type": "stream",
     "text": [
      "[True, 'Banasthali', 4.55, 5, 6, 'hi']\n",
      "<class 'list'>\n"
     ]
    }
   ],
   "source": [
    "lst=[True,'Banasthali',4.55,5,6,'hi']\n",
    "print(lst)\n",
    "print(type(lst))"
   ]
  },
  {
   "cell_type": "code",
   "execution_count": 15,
   "metadata": {},
   "outputs": [
    {
     "name": "stdout",
     "output_type": "stream",
     "text": [
      "True\n",
      "<class 'bool'>\n",
      "Banasthali\n",
      "<class 'str'>\n",
      "4.55\n",
      "<class 'float'>\n",
      "5\n",
      "<class 'int'>\n",
      "6\n",
      "<class 'int'>\n",
      "hi\n",
      "<class 'str'>\n"
     ]
    }
   ],
   "source": [
    "for wd in lst:\n",
    "    print(wd)\n",
    "    print(type(wd))"
   ]
  },
  {
   "cell_type": "markdown",
   "metadata": {},
   "source": [
    "                                                FILE HANDLING"
   ]
  },
  {
   "cell_type": "code",
   "execution_count": 90,
   "metadata": {},
   "outputs": [],
   "source": [
    "r=open(\"file2.txt\",\"w\")\n",
    "r.writelines(\"From python write method\\n\")\n",
    "r.writelines(\"From python write method again\\n\")\n",
    "r.writelines(\"Changing line using writelines method\\n\")\n",
    "r.writelines('''Changing line using triple quotes\n",
    "                to change lines\n",
    "                doing this\n",
    "                again and again''')\n",
    "r.flush() ## to view data when writing \n",
    "r.close()"
   ]
  },
  {
   "cell_type": "code",
   "execution_count": 91,
   "metadata": {},
   "outputs": [
    {
     "name": "stdout",
     "output_type": "stream",
     "text": [
      "From python write method\n",
      "From python write method again\n",
      "Changing line using writelines method\n",
      "Changing line using triple quotes\n",
      "                to change lines\n",
      "                doing this\n",
      "                again and again\n"
     ]
    }
   ],
   "source": [
    "r=open(\"file2.txt\",\"r\")\n",
    "print(r.read())  ##no space between lines as read() treats everything in form of STRING\n",
    "#for line in r.readlines():\n",
    " #   print(line) ##spaces between lines that is it converts into LIST\n",
    "#after this the pointer will point to EOL so any further read() will point to null"
   ]
  },
  {
   "cell_type": "markdown",
   "metadata": {},
   "source": [
    "#                                                    Questions "
   ]
  },
  {
   "cell_type": "markdown",
   "metadata": {},
   "source": [
    "1. WAP to read a file and print the line which has the max number of words\n",
    "2. WAP to input a file and print even number of lines / data on even line numbers\n",
    "3. WAP to read a file and copy contents in another file\n",
    "4. WAP to read 2 files and find which file has a larger size.\n",
    "5. WAP to read 2 files and print odd lines of first and even lines of second into a third file.\n",
    "6. WAP to read 2 files and check which one has more number of vowels."
   ]
  },
  {
   "cell_type": "code",
   "execution_count": 92,
   "metadata": {},
   "outputs": [
    {
     "name": "stdout",
     "output_type": "stream",
     "text": [
      "[4, 5, 5, 5, 19, 18, 19]\n",
      "19\n"
     ]
    }
   ],
   "source": [
    "#A1\n",
    "lst=[]\n",
    "count=[]\n",
    "mylst=[]\n",
    "file1=open(\"file2.txt\",\"r\")\n",
    "for line in file1.readlines():\n",
    "    mylst=line.split(\" \")\n",
    "    count.append(len(mylst))\n",
    "print(count)\n",
    "print(max(count))"
   ]
  },
  {
   "cell_type": "code",
   "execution_count": 108,
   "metadata": {
    "scrolled": true
   },
   "outputs": [
    {
     "name": "stdout",
     "output_type": "stream",
     "text": [
      "From python write method again\n",
      "\n",
      "Changing line using triple quotes\n",
      "\n",
      "                doing this\n",
      "\n"
     ]
    }
   ],
   "source": [
    "#A2\n",
    "mylst=[]\n",
    "file1=open(\"file2.txt\",\"r\")\n",
    "for line in file1.readlines():\n",
    "    mylst.append(line.split(\" \"))\n",
    "    if len(mylst)%2==0:\n",
    "        print(line)"
   ]
  },
  {
   "cell_type": "code",
   "execution_count": 112,
   "metadata": {},
   "outputs": [],
   "source": [
    "#A3\n",
    "file2=open(\"file2.txt\",\"r\")\n",
    "file3=open(\"file3.txt\",\"w\")\n",
    "for line in file2.readlines():\n",
    "    file3.writelines(line)\n",
    "file3.close()\n",
    "file1.close()\n",
    "           "
   ]
  },
  {
   "cell_type": "code",
   "execution_count": 107,
   "metadata": {},
   "outputs": [
    {
     "name": "stdout",
     "output_type": "stream",
     "text": [
      "7\n"
     ]
    }
   ],
   "source": [
    "#A4\n",
    "\n",
    "file1=open(\"file1.txt\",\"r\")\n",
    "file2=open(\"file2.txt\",\"r\")\n",
    "count1=0\n",
    "count2=0\n",
    "for line in file1.readlines():\n",
    "    mylst.append(line.split(\" \"))\n",
    "    count1+=1\n",
    "for line in file2.readlines():\n",
    "    mylst.append(line.split(\" \"))\n",
    "    count2+=1\n",
    "    \n",
    "print(max(count1,count2))"
   ]
  },
  {
   "cell_type": "code",
   "execution_count": 143,
   "metadata": {},
   "outputs": [],
   "source": [
    "#A5\n",
    "\n",
    "file1=open(\"file1.txt\",\"r\")\n",
    "file2=open(\"file2.txt\",\"r\")\n",
    "file3=open(\"file4.txt\",\"w\")\n",
    "for line in file1.readlines():\n",
    "    mylst.append(line.split(\" \"))\n",
    "    if len(mylst)%2==0:\n",
    "        file3.writelines(line)\n",
    "    \n",
    "for line in file2.readlines():\n",
    "    mylst.append(line.split(\" \"))\n",
    "    if len(mylst)%2!=0:\n",
    "        file3.writelines(line)\n",
    "    "
   ]
  },
  {
   "cell_type": "code",
   "execution_count": 145,
   "metadata": {},
   "outputs": [
    {
     "name": "stdout",
     "output_type": "stream",
     "text": [
      "file2\n",
      "53\n"
     ]
    }
   ],
   "source": [
    "#A6\n",
    "\n",
    "file1=open(\"file1.txt\",\"r\")\n",
    "file2=open(\"file2.txt\",\"r\")\n",
    "count1=0\n",
    "count2=0\n",
    "mylst=[]\n",
    "mylst2=[]\n",
    "for line in file1.readlines():\n",
    "    for l in line:\n",
    "        mylst.append(l)\n",
    "    \n",
    "for i in mylst:\n",
    "    if i=='a' or i=='e' or i=='i' or i=='o' or i=='u':\n",
    "        count1+=1\n",
    "        \n",
    "    \n",
    "for line in file2.readlines():\n",
    "    for l in line:\n",
    "        mylst2.append(l)\n",
    "    \n",
    "for i in mylst2:\n",
    "    if i=='a' or i=='e' or i=='i' or i=='o' or i=='u':\n",
    "        count2+=1\n",
    "        \n",
    "if count1 > count2 :\n",
    "    print(\"file1\")\n",
    "else: \n",
    "    print(\"file2\")\n",
    "print(max(count1,count2))"
   ]
  },
  {
   "cell_type": "code",
   "execution_count": null,
   "metadata": {},
   "outputs": [],
   "source": []
  }
 ],
 "metadata": {
  "kernelspec": {
   "display_name": "Python 3",
   "language": "python",
   "name": "python3"
  },
  "language_info": {
   "codemirror_mode": {
    "name": "ipython",
    "version": 3
   },
   "file_extension": ".py",
   "mimetype": "text/x-python",
   "name": "python",
   "nbconvert_exporter": "python",
   "pygments_lexer": "ipython3",
   "version": "3.7.3"
  }
 },
 "nbformat": 4,
 "nbformat_minor": 2
}
