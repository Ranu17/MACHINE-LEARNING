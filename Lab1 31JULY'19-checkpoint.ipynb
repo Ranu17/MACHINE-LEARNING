{
 "cells": [
  {
   "cell_type": "markdown",
   "metadata": {},
   "source": [
    "# Basic"
   ]
  },
  {
   "cell_type": "code",
   "execution_count": 15,
   "metadata": {},
   "outputs": [],
   "source": [
    "a=11"
   ]
  },
  {
   "cell_type": "code",
   "execution_count": 16,
   "metadata": {},
   "outputs": [
    {
     "name": "stdout",
     "output_type": "stream",
     "text": [
      "11 is greater than 10 and less than 20\n"
     ]
    }
   ],
   "source": [
    "if a > 10 and a <20:\n",
    "    print(a,'is greater than 10 and less than 20')\n",
    "elif a > 20 and a <30:\n",
    "    print(a,'is greater than 20 and less than 30')\n",
    "else:\n",
    "    print(a,'is less than 30')"
   ]
  },
  {
   "cell_type": "code",
   "execution_count": 21,
   "metadata": {},
   "outputs": [
    {
     "name": "stdout",
     "output_type": "stream",
     "text": [
      "10\n",
      "11\n",
      "12\n",
      "13\n",
      "14\n",
      "15\n"
     ]
    }
   ],
   "source": [
    "a=10\n",
    "while a <= 15:\n",
    "    print(a)\n",
    "    a+=1"
   ]
  },
  {
   "cell_type": "code",
   "execution_count": 22,
   "metadata": {},
   "outputs": [
    {
     "name": "stdout",
     "output_type": "stream",
     "text": [
      "1\n",
      "2\n",
      "3\n",
      "4\n",
      "5\n",
      "6\n",
      "7\n",
      "8\n"
     ]
    }
   ],
   "source": [
    "for a in range(1,9):\n",
    "    print(a)"
   ]
  },
  {
   "cell_type": "code",
   "execution_count": 23,
   "metadata": {},
   "outputs": [
    {
     "name": "stdout",
     "output_type": "stream",
     "text": [
      "1\n",
      "3\n",
      "5\n",
      "7\n"
     ]
    }
   ],
   "source": [
    "for a in range(1,9,2):\n",
    "    print(a)"
   ]
  },
  {
   "cell_type": "code",
   "execution_count": 24,
   "metadata": {},
   "outputs": [
    {
     "name": "stdout",
     "output_type": "stream",
     "text": [
      "100\n",
      "90\n",
      "80\n",
      "70\n",
      "60\n",
      "50\n",
      "40\n",
      "30\n",
      "20\n",
      "10\n"
     ]
    }
   ],
   "source": [
    "for a in range(100,0,-10):\n",
    "    print(a)"
   ]
  },
  {
   "cell_type": "markdown",
   "metadata": {},
   "source": [
    "# input"
   ]
  },
  {
   "cell_type": "markdown",
   "metadata": {},
   "source": [
    "by default input in python are string"
   ]
  },
  {
   "cell_type": "code",
   "execution_count": 26,
   "metadata": {},
   "outputs": [
    {
     "name": "stdout",
     "output_type": "stream",
     "text": [
      "Enter a number10\n",
      "1010101010\n"
     ]
    },
    {
     "data": {
      "text/plain": [
       "str"
      ]
     },
     "execution_count": 26,
     "metadata": {},
     "output_type": "execute_result"
    }
   ],
   "source": [
    "a=input(\"Enter a number\")\n",
    "print(a*5)\n",
    "type(a)"
   ]
  },
  {
   "cell_type": "code",
   "execution_count": 28,
   "metadata": {},
   "outputs": [
    {
     "name": "stdout",
     "output_type": "stream",
     "text": [
      "Enter a number10\n",
      "50\n"
     ]
    },
    {
     "data": {
      "text/plain": [
       "int"
      ]
     },
     "execution_count": 28,
     "metadata": {},
     "output_type": "execute_result"
    }
   ],
   "source": [
    "a=int(input(\"Enter a number\"))\n",
    "print(a*5)\n",
    "type(a)"
   ]
  },
  {
   "cell_type": "code",
   "execution_count": 32,
   "metadata": {},
   "outputs": [],
   "source": [
    "a=bool(1)\n",
    "type(a)\n",
    "b=12.4\n"
   ]
  },
  {
   "cell_type": "code",
   "execution_count": 17,
   "metadata": {},
   "outputs": [
    {
     "name": "stdout",
     "output_type": "stream",
     "text": [
      "BanasthaliBanasthali\n"
     ]
    }
   ],
   "source": [
    "a='Banasthali'\n",
    "print(a*2)"
   ]
  },
  {
   "cell_type": "markdown",
   "metadata": {},
   "source": [
    "# Questions"
   ]
  },
  {
   "cell_type": "markdown",
   "metadata": {},
   "source": [
    "1. WAP to fing greatest among 2 number."
   ]
  },
  {
   "cell_type": "code",
   "execution_count": 33,
   "metadata": {},
   "outputs": [
    {
     "name": "stdout",
     "output_type": "stream",
     "text": [
      "Enter number 12\n",
      "Enter number 25\n",
      "5 is greater than 2\n"
     ]
    }
   ],
   "source": [
    "a=int(input(\"Enter number 1\"))\n",
    "b=int(input(\"Enter number 2\"))\n",
    "if a > b:\n",
    "    print(a,'is greater than',b)\n",
    "else:\n",
    "    print(b,'is greater than',a)"
   ]
  },
  {
   "cell_type": "markdown",
   "metadata": {},
   "source": [
    "2. WAP to find greatest among 3 numbers.\n"
   ]
  },
  {
   "cell_type": "code",
   "execution_count": 35,
   "metadata": {},
   "outputs": [
    {
     "name": "stdout",
     "output_type": "stream",
     "text": [
      "Enter number 1     1\n",
      "Enter number 2     2\n",
      "Enter number 3     4\n",
      "4 is greater than 1 and 2\n"
     ]
    }
   ],
   "source": [
    "a=int(input(\"Enter number 1     \"))\n",
    "b=int(input(\"Enter number 2     \"))\n",
    "c=int(input(\"Enter number 3     \"))\n",
    "if a > b and b > c:\n",
    "    print(a,'is greater than',b,'and',c)\n",
    "elif b > a and b > c:\n",
    "    print(b,'is greater than',a,'and',c)\n",
    "else:\n",
    "    print(c,'is greater than',a,'and',b)"
   ]
  },
  {
   "cell_type": "markdown",
   "metadata": {},
   "source": [
    "3. WAP armstrong number check"
   ]
  },
  {
   "cell_type": "code",
   "execution_count": 49,
   "metadata": {},
   "outputs": [
    {
     "name": "stdout",
     "output_type": "stream",
     "text": [
      "Enter number 1     153\n",
      "3\n",
      "5\n",
      "1\n",
      "153 is an Armstrong number\n"
     ]
    }
   ],
   "source": [
    "n=int(input(\"Enter number 1     \"))\n",
    "a=n\n",
    "sum=0\n",
    "while n > 0:\n",
    "    num=n%10\n",
    "    print(num)\n",
    "    n=n//10\n",
    "    sum+=num**3\n",
    "if sum==a:\n",
    "    print(a,'is an Armstrong number')\n",
    "else:\n",
    "    print(a,'is not an Armstrong number')"
   ]
  },
  {
   "cell_type": "markdown",
   "metadata": {},
   "source": [
    "4. WAP to check whether a number is divisible by 7 or not"
   ]
  },
  {
   "cell_type": "code",
   "execution_count": 44,
   "metadata": {},
   "outputs": [
    {
     "name": "stdout",
     "output_type": "stream",
     "text": [
      "Enter number 1     28\n",
      "28 is divisible by 7\n"
     ]
    }
   ],
   "source": [
    "n=int(input(\"Enter number 1     \"))\n",
    "if n%7==0:\n",
    "    print(n,'is divisible by 7')\n",
    "else:\n",
    "    print(n,'is not divisible by 7')"
   ]
  },
  {
   "cell_type": "markdown",
   "metadata": {},
   "source": [
    "5. WAP to check prime or not"
   ]
  },
  {
   "cell_type": "code",
   "execution_count": 47,
   "metadata": {},
   "outputs": [
    {
     "name": "stdout",
     "output_type": "stream",
     "text": [
      "Enter number 1     25\n",
      "25 is not a prime\n"
     ]
    }
   ],
   "source": [
    "n=int(input(\"Enter number 1     \"))\n",
    "flag=0\n",
    "for a in range(2,n//2):\n",
    "    if n%a == 0:\n",
    "        print(n,'is not a prime')\n",
    "        flag=1\n",
    "if flag==0:\n",
    "    print(n,'is prime')\n",
    "    "
   ]
  },
  {
   "cell_type": "markdown",
   "metadata": {},
   "source": [
    "6.WAP to print first 10 natural numbers"
   ]
  },
  {
   "cell_type": "code",
   "execution_count": 48,
   "metadata": {},
   "outputs": [
    {
     "name": "stdout",
     "output_type": "stream",
     "text": [
      "1\n",
      "2\n",
      "3\n",
      "4\n",
      "5\n",
      "6\n",
      "7\n",
      "8\n",
      "9\n",
      "10\n"
     ]
    }
   ],
   "source": [
    "n=1\n",
    "while n<=10:\n",
    "    print(n)\n",
    "    n+=1"
   ]
  },
  {
   "cell_type": "markdown",
   "metadata": {},
   "source": [
    "7.WAP to generate first n odd numbers\n"
   ]
  },
  {
   "cell_type": "code",
   "execution_count": 50,
   "metadata": {},
   "outputs": [
    {
     "name": "stdout",
     "output_type": "stream",
     "text": [
      "Enter number 1     10\n",
      "9\n",
      "7\n",
      "5\n",
      "3\n",
      "1\n"
     ]
    }
   ],
   "source": [
    "n=int(input(\"Enter number 1     \"))\n",
    "while n > 0:\n",
    "    if n%2!=0:\n",
    "        print(n)\n",
    "    n-=1"
   ]
  },
  {
   "cell_type": "markdown",
   "metadata": {},
   "source": [
    "8. WAP to find roots of quadratic equation"
   ]
  },
  {
   "cell_type": "code",
   "execution_count": 3,
   "metadata": {},
   "outputs": [
    {
     "name": "stdout",
     "output_type": "stream",
     "text": [
      "Enter x^2       5\n",
      "Enter x         6\n",
      "Enter c         7\n",
      "root1=   -9.0\n",
      "root2=   2.0\n"
     ]
    }
   ],
   "source": [
    "import math\n",
    "num1=int(input(\"Enter x^2       \"))\n",
    "num2=int(input(\"Enter x         \"))\n",
    "num3=int(input(\"Enter c         \"))\n",
    "root1= (-num2 - math.sqrt(4*num1*num3))//2\n",
    "root2= (-num2 + math.sqrt(4*num1*num3))//2\n",
    "print('root1=  ',root1)\n",
    "print('root2=  ', root2)\n"
   ]
  },
  {
   "cell_type": "markdown",
   "metadata": {},
   "source": [
    "9.WAP to sum first 10 natural numbers"
   ]
  },
  {
   "cell_type": "code",
   "execution_count": 51,
   "metadata": {},
   "outputs": [
    {
     "name": "stdout",
     "output_type": "stream",
     "text": [
      "Enter number 1     10\n",
      "55\n"
     ]
    }
   ],
   "source": [
    "n=int(input(\"Enter number 1     \"))\n",
    "sum=0\n",
    "while n > 0:\n",
    "    sum+=n\n",
    "    n-=1\n",
    "print(sum)"
   ]
  },
  {
   "cell_type": "markdown",
   "metadata": {},
   "source": [
    "10. WAP to generate fibonacci upto nth term"
   ]
  },
  {
   "cell_type": "code",
   "execution_count": 18,
   "metadata": {},
   "outputs": [
    {
     "name": "stdout",
     "output_type": "stream",
     "text": [
      "Enter number 1     5\n",
      "1\n",
      "1\n",
      "3\n",
      "5\n",
      "7\n",
      "9\n"
     ]
    }
   ],
   "source": [
    "n=int(input(\"Enter number 1     \"))\n",
    "val=1\n",
    "num=2\n",
    "sum1=0\n",
    "print(int(1))\n",
    "print(int(1))\n",
    "while num<=n:\n",
    "    sum1=num+val\n",
    "    print(sum1)\n",
    "    val=num\n",
    "    num+=1\n",
    "   \n"
   ]
  },
  {
   "cell_type": "markdown",
   "metadata": {},
   "source": [
    "11. WAP to generate prime series upto nth number"
   ]
  },
  {
   "cell_type": "code",
   "execution_count": 31,
   "metadata": {},
   "outputs": [
    {
     "name": "stdout",
     "output_type": "stream",
     "text": [
      "Enter n    5\n",
      "2\n"
     ]
    }
   ],
   "source": [
    "n=int(input(\"Enter n    \"))\n",
    "flag=0\n",
    "print(int(2))\n",
    "for a in range(3,n+1):\n",
    "    for b in range(a+1,(n//2)+1):\n",
    "        if a%b== 0:\n",
    "            flag=1\n",
    "            break\n",
    "        if flag==0:\n",
    "            print(a)\n"
   ]
  },
  {
   "cell_type": "markdown",
   "metadata": {},
   "source": [
    "12. WAP to check if a string is palindrome or not"
   ]
  },
  {
   "cell_type": "code",
   "execution_count": 54,
   "metadata": {},
   "outputs": [
    {
     "name": "stdout",
     "output_type": "stream",
     "text": [
      "Enter string    ele\n",
      "ele is palindrome\n"
     ]
    }
   ],
   "source": [
    "n=input(\"Enter string    \")\n",
    "a=n[::-1]\n",
    "if a==n:\n",
    "    print(n,'is palindrome')\n",
    "else:\n",
    "    print(n,'is not a palindrome')"
   ]
  },
  {
   "cell_type": "markdown",
   "metadata": {},
   "source": [
    "13. WAP to count number of vowels in a string"
   ]
  },
  {
   "cell_type": "code",
   "execution_count": 58,
   "metadata": {},
   "outputs": [
    {
     "name": "stdout",
     "output_type": "stream",
     "text": [
      "Enter string    ranu\n",
      "2\n"
     ]
    }
   ],
   "source": [
    "n=input(\"Enter string    \")\n",
    "count=0\n",
    "for a in n:\n",
    "    if a=='a':\n",
    "        count+=1\n",
    "    elif a=='e':\n",
    "        count+=1\n",
    "    elif a=='i':\n",
    "        count+=1\n",
    "    elif a=='o': \n",
    "        count+=1\n",
    "    elif a=='u':\n",
    "        count+=1\n",
    "print(count)\n",
    "        "
   ]
  },
  {
   "cell_type": "markdown",
   "metadata": {},
   "source": [
    "14. WAP to count the frquency of each char in a string"
   ]
  },
  {
   "cell_type": "code",
   "execution_count": null,
   "metadata": {},
   "outputs": [],
   "source": []
  },
  {
   "cell_type": "markdown",
   "metadata": {},
   "source": [
    "15. WAP to count the number of words in an input string"
   ]
  }
 ],
 "metadata": {
  "kernelspec": {
   "display_name": "Python 3",
   "language": "python",
   "name": "python3"
  },
  "language_info": {
   "codemirror_mode": {
    "name": "ipython",
    "version": 3
   },
   "file_extension": ".py",
   "mimetype": "text/x-python",
   "name": "python",
   "nbconvert_exporter": "python",
   "pygments_lexer": "ipython3",
   "version": "3.7.3"
  }
 },
 "nbformat": 4,
 "nbformat_minor": 2
}
