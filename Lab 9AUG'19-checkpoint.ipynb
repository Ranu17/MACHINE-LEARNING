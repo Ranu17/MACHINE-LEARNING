{
 "cells": [
  {
   "cell_type": "code",
   "execution_count": 39,
   "metadata": {},
   "outputs": [
    {
     "name": "stdout",
     "output_type": "stream",
     "text": [
      "Enter n   10\n",
      "1 2 3 4 5 6 7 8 9 10 Sum of 10 numbers is:    55\n"
     ]
    }
   ],
   "source": [
    "def num(n):\n",
    "    sum=0\n",
    "    for i in range(1,n+1):\n",
    "        print(i,end=\" \")\n",
    "        sum+=i\n",
    "    return sum\n",
    "\n",
    "\n",
    "n=int(input(\"Enter n   \"))\n",
    "print(\"Sum of\",n,\"numbers is:   \",num(n))        "
   ]
  },
  {
   "cell_type": "code",
   "execution_count": 38,
   "metadata": {},
   "outputs": [
    {
     "name": "stdout",
     "output_type": "stream",
     "text": [
      "0 1 1 2 3 "
     ]
    }
   ],
   "source": [
    "def fibo(n):\n",
    "    a=0\n",
    "    b=1\n",
    "    i=0\n",
    "    while(i<n):\n",
    "        print(a,end=\" \")\n",
    "        t=a+b\n",
    "        a=b\n",
    "        b=t\n",
    "        i+=1\n",
    "\n",
    "fibo(5)"
   ]
  },
  {
   "cell_type": "code",
   "execution_count": 20,
   "metadata": {},
   "outputs": [
    {
     "name": "stdout",
     "output_type": "stream",
     "text": [
      "120\n"
     ]
    }
   ],
   "source": [
    "def fact(n):\n",
    "    r=1;\n",
    "    while(n>0):\n",
    "        r=r*n\n",
    "        n-=1\n",
    "    return r\n",
    "\n",
    "print(fact(5))"
   ]
  },
  {
   "cell_type": "markdown",
   "metadata": {},
   "source": [
    "                                            RECURSIVE FUNCTION"
   ]
  },
  {
   "cell_type": "code",
   "execution_count": 37,
   "metadata": {},
   "outputs": [
    {
     "name": "stdout",
     "output_type": "stream",
     "text": [
      "1 2 3 4 5 6 7 8 9 10 "
     ]
    }
   ],
   "source": [
    "def num(i,n):\n",
    "    if(i<n):\n",
    "        print(i,end=\" \")\n",
    "        num(i+1,n)\n",
    "num(1,11)"
   ]
  },
  {
   "cell_type": "code",
   "execution_count": 36,
   "metadata": {},
   "outputs": [
    {
     "name": "stdout",
     "output_type": "stream",
     "text": [
      "Enter n  10\n",
      "0 1 1 2 3 5 8 13 21 34 "
     ]
    }
   ],
   "source": [
    "def fibo(a,b,i,n):\n",
    "    if(i<n):\n",
    "        print(a,end=\" \")\n",
    "        fibo(b,a+b,i+1,n)\n",
    "n=int(input(\"Enter n  \"))\n",
    "fibo(0,1,0,n)"
   ]
  },
  {
   "cell_type": "code",
   "execution_count": 23,
   "metadata": {},
   "outputs": [
    {
     "name": "stdout",
     "output_type": "stream",
     "text": [
      "120\n"
     ]
    }
   ],
   "source": [
    "def fact(n):\n",
    "    if n==1:\n",
    "        return 1\n",
    "    else:\n",
    "        return(n*fact(n-1))\n",
    "print(fact(5))"
   ]
  },
  {
   "cell_type": "markdown",
   "metadata": {},
   "source": [
    "# QUESTIONS"
   ]
  },
  {
   "cell_type": "markdown",
   "metadata": {},
   "source": [
    "1. Write a recursive function  to print first 10 even nummbers\n",
    "2. WARF to generate a series 1 3 9 15 .... nth term\n",
    "3. WARF to generate a series 2 4 4 16 6 36...n\n",
    "4. WARF to generate a series 2 3 10 15 26 35...n\n",
    "5. WARF to find the first 10 natural numbers\n",
    "6. WARF to print sum of the series 1/1 + 1/4 + 1/16+...+1/n\n",
    "7. WARF to check if a string is palindrome or not"
   ]
  },
  {
   "cell_type": "code",
   "execution_count": 35,
   "metadata": {},
   "outputs": [
    {
     "name": "stdout",
     "output_type": "stream",
     "text": [
      "0 2 4 6 8 "
     ]
    }
   ],
   "source": [
    "#A1\n",
    "\n",
    "def eve(n,i):\n",
    "    if i<n:\n",
    "        if i%2==0:\n",
    "            print(i,end=\" \")\n",
    "        eve(n,i+1)\n",
    "eve(10,0)"
   ]
  },
  {
   "cell_type": "code",
   "execution_count": 34,
   "metadata": {},
   "outputs": [
    {
     "name": "stdout",
     "output_type": "stream",
     "text": [
      "3 6 9 12 15 18 21 24 27 "
     ]
    }
   ],
   "source": [
    "#A2\n",
    "\n",
    "def series(n,i):\n",
    "    if i<n:\n",
    "        if(i%3==0):\n",
    "            print(i,end=\" \")\n",
    "        series(n,i+1)\n",
    "series(30,1)"
   ]
  },
  {
   "cell_type": "code",
   "execution_count": 30,
   "metadata": {},
   "outputs": [
    {
     "name": "stdout",
     "output_type": "stream",
     "text": [
      "2 4 4 16 6 36 8 64 10 100 12 144 14 196 16 256 18 324 "
     ]
    }
   ],
   "source": [
    "#A3\n",
    "\n",
    "def series(n,i):\n",
    "    if i<n:\n",
    "        if i%2==0:\n",
    "            print(i,i**2,end=\" \")\n",
    "        series(n,i+1)\n",
    "        \n",
    "series(20,1)"
   ]
  },
  {
   "cell_type": "code",
   "execution_count": 4,
   "metadata": {},
   "outputs": [
    {
     "name": "stdout",
     "output_type": "stream",
     "text": [
      "2 3 10 15 26 "
     ]
    }
   ],
   "source": [
    "#A4\n",
    "\n",
    "def series(n,i):\n",
    "    if i < n:\n",
    "        if i%2==0:\n",
    "            print(i**2 -1,end=\" \")\n",
    "        else:\n",
    "            print(i**2 +1, end=\" \")\n",
    "    if i >= n:\n",
    "        return\n",
    "    series(n,i+1)\n",
    "series(6,1)\n"
   ]
  },
  {
   "cell_type": "code",
   "execution_count": 33,
   "metadata": {},
   "outputs": [
    {
     "name": "stdout",
     "output_type": "stream",
     "text": [
      "1 2 3 4 5 6 7 8 9 "
     ]
    }
   ],
   "source": [
    "#A5\n",
    "\n",
    "def naturalnumber(n,i):\n",
    "    if i<n:\n",
    "        print(i,end=\" \")\n",
    "        naturalnumber(n,i+1)\n",
    "naturalnumber(10,1)"
   ]
  },
  {
   "cell_type": "code",
   "execution_count": 97,
   "metadata": {},
   "outputs": [
    {
     "name": "stdout",
     "output_type": "stream",
     "text": [
      "1.4236111111111112\n"
     ]
    }
   ],
   "source": [
    "#A6\n",
    "def sos(i,s,n):\n",
    "    if i<=n:\n",
    "#        t = 1/(i**2)\n",
    "#        s=s+t\n",
    "#        print (t, \" \", s)                                                      \n",
    "#        sos(i+1,s,n)\n",
    "        return s + sos(i+1,1/(i**2),n)\n",
    "    else:\n",
    "        return 0\n",
    "\n",
    "#def sumofseries(n,i,total):\n",
    "#    if i==n:\n",
    "#        return total\n",
    "#    if i < n:\n",
    "#            total+=(1/i**2)\n",
    "#            print(total)\n",
    "#            sumofseries(n,i+1,total)\n",
    "    \n",
    "#print(sumofseries(5,1,0))\n",
    "res=sos(1,0,5)\n",
    "print(res)"
   ]
  },
  {
   "cell_type": "code",
   "execution_count": 5,
   "metadata": {},
   "outputs": [
    {
     "name": "stdout",
     "output_type": "stream",
     "text": [
      "Palindrome\n"
     ]
    }
   ],
   "source": [
    "#A7\n",
    "\n",
    "def palindrome(s,length,i,n,flag):\n",
    "    if i >= n:\n",
    "        return flag\n",
    "    if i<n:\n",
    "        if s[i]==s[n]:\n",
    "            flag=0\n",
    "        else:\n",
    "            flag=1\n",
    "        return palindrome(s,length,i+1,n-1,flag)\n",
    "    \n",
    "    \n",
    "flag=palindrome('ELE',len('ELE'),0,len('ELE')-1,0)\n",
    "\n",
    "if flag==0:\n",
    "    print(\"Palindrome\")\n",
    "else: \n",
    "     print(\"Not Palindrome\")"
   ]
  }
 ],
 "metadata": {
  "kernelspec": {
   "display_name": "Python 3",
   "language": "python",
   "name": "python3"
  },
  "language_info": {
   "codemirror_mode": {
    "name": "ipython",
    "version": 3
   },
   "file_extension": ".py",
   "mimetype": "text/x-python",
   "name": "python",
   "nbconvert_exporter": "python",
   "pygments_lexer": "ipython3",
   "version": "3.7.3"
  }
 },
 "nbformat": 4,
 "nbformat_minor": 2
}
