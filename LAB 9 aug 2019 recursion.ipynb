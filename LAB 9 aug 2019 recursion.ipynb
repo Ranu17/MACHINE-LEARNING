{
 "cells": [
  {
   "cell_type": "code",
   "execution_count": 2,
   "metadata": {},
   "outputs": [
    {
     "name": "stdout",
     "output_type": "stream",
     "text": [
      "1\n",
      "2\n",
      "3\n",
      "4\n",
      "5\n",
      "6\n",
      "7\n",
      "8\n",
      "9\n",
      "10\n"
     ]
    }
   ],
   "source": [
    "def num(n):\n",
    "    for i in range(1,n+1):\n",
    "        print(i)\n",
    "num(10)"
   ]
  },
  {
   "cell_type": "code",
   "execution_count": 7,
   "metadata": {},
   "outputs": [
    {
     "name": "stdout",
     "output_type": "stream",
     "text": [
      "55\n"
     ]
    }
   ],
   "source": [
    "def num(n):\n",
    "    sum=0\n",
    "    for i in range(1,n+1):\n",
    "        sum+=i\n",
    "    return sum\n",
    "print(num(10))"
   ]
  },
  {
   "cell_type": "code",
   "execution_count": 9,
   "metadata": {},
   "outputs": [
    {
     "name": "stdout",
     "output_type": "stream",
     "text": [
      "1\n",
      "2\n",
      "3\n",
      "4\n",
      "5\n",
      "6\n",
      "7\n",
      "8\n",
      "9\n",
      "10\n"
     ]
    }
   ],
   "source": [
    "def recsum(i,n):\n",
    "    if i<=n:\n",
    "        print(i)\n",
    "        recsum(i+1,n)\n",
    "recsum(1,10)    "
   ]
  },
  {
   "cell_type": "code",
   "execution_count": 10,
   "metadata": {},
   "outputs": [
    {
     "name": "stdout",
     "output_type": "stream",
     "text": [
      "0\n",
      "1\n",
      "1\n",
      "2\n",
      "3\n"
     ]
    }
   ],
   "source": [
    "def fibo(n):\n",
    "    a=0\n",
    "    b=1\n",
    "    i=0\n",
    "    while i<n:\n",
    "        print(a)\n",
    "        t=a+b\n",
    "        a=b\n",
    "        b=t\n",
    "        i+=1\n",
    "fibo(5)"
   ]
  },
  {
   "cell_type": "code",
   "execution_count": 12,
   "metadata": {},
   "outputs": [
    {
     "name": "stdout",
     "output_type": "stream",
     "text": [
      "0\n",
      "1\n",
      "1\n",
      "2\n",
      "3\n"
     ]
    }
   ],
   "source": [
    "def recfibo(a,b,i,n):\n",
    "    if i<=n:\n",
    "        print(a)\n",
    "        recfibo(b,a+b,i+1,n)\n",
    "recfibo(0,1,1,5)"
   ]
  },
  {
   "cell_type": "code",
   "execution_count": 14,
   "metadata": {},
   "outputs": [
    {
     "name": "stdout",
     "output_type": "stream",
     "text": [
      "120\n"
     ]
    }
   ],
   "source": [
    "def fact(n):\n",
    "    if n==1:\n",
    "        return 1\n",
    "    return(n*fact(n-1))\n",
    "print(fact(5))"
   ]
  },
  {
   "cell_type": "code",
   "execution_count": 16,
   "metadata": {},
   "outputs": [
    {
     "name": "stdout",
     "output_type": "stream",
     "text": [
      "120\n"
     ]
    }
   ],
   "source": [
    "def fact(n):\n",
    "    if n>0:\n",
    "        return(n*fact(n-1))\n",
    "    else:\n",
    "        return 1\n",
    "print(fact(5))"
   ]
  },
  {
   "cell_type": "code",
   "execution_count": 7,
   "metadata": {},
   "outputs": [
    {
     "name": "stdout",
     "output_type": "stream",
     "text": [
      "2 4 6 8 10 "
     ]
    }
   ],
   "source": [
    "#1\n",
    "def even(i,n):\n",
    "    if i<=n:\n",
    "        if i%2==0:\n",
    "            print(i,end=\" \")\n",
    "        even(i+1,n)\n",
    "even(1,10)"
   ]
  },
  {
   "cell_type": "code",
   "execution_count": 9,
   "metadata": {},
   "outputs": [
    {
     "name": "stdout",
     "output_type": "stream",
     "text": [
      "3 9 15 21 27 "
     ]
    }
   ],
   "source": [
    "#2\n",
    "def odd(i,n):\n",
    "    if i<=n:\n",
    "        if i%2!=0:\n",
    "            print(3*i,end=\" \")\n",
    "        odd(i+1,n)\n",
    "odd(1,10)\n",
    "    "
   ]
  },
  {
   "cell_type": "code",
   "execution_count": 17,
   "metadata": {},
   "outputs": [
    {
     "name": "stdout",
     "output_type": "stream",
     "text": [
      "enter nth term5\n",
      "2 4 4 16 6 36 8 64 10 100 "
     ]
    }
   ],
   "source": [
    "#3\n",
    "def ser2(i,n):\n",
    "    if i<=n:\n",
    "        print(2*i,(2*i)**2,end=\" \")\n",
    "        ser2(i+1,n)\n",
    "n=int(input(\"enter nth term\"))\n",
    "ser2(1,n)\n",
    "        "
   ]
  },
  {
   "cell_type": "code",
   "execution_count": 17,
   "metadata": {},
   "outputs": [
    {
     "name": "stdout",
     "output_type": "stream",
     "text": [
      "2 3 10 15 26 35 50 63 82 99 "
     ]
    }
   ],
   "source": [
    " #4\n",
    "def ser3(i,n):\n",
    "    if i<=n:\n",
    "        if i%2==0:\n",
    "            print((i*i)-1,end=\" \")\n",
    "        else:\n",
    "            print((i*i)+1,end=\" \")\n",
    "        ser3(i+1,n)\n",
    "ser3(1,10)\n",
    "    \n",
    "            \n"
   ]
  },
  {
   "cell_type": "code",
   "execution_count": 35,
   "metadata": {},
   "outputs": [
    {
     "name": "stdout",
     "output_type": "stream",
     "text": [
      "enter range10\n",
      "10\n"
     ]
    }
   ],
   "source": [
    "#5\n",
    "def recsum1(i,n):\n",
    "    if i==n:\n",
    "        return i\n",
    "    else:\n",
    "        return recsum1(i+1,n)\n",
    "n=int(input(\"enter range\"))\n",
    "s=recsum1(1,n)\n",
    "print(s)"
   ]
  },
  {
   "cell_type": "code",
   "execution_count": 12,
   "metadata": {},
   "outputs": [
    {
     "name": "stdout",
     "output_type": "stream",
     "text": [
      "enter range:3\n",
      "3.25\n"
     ]
    }
   ],
   "source": [
    "#6\n",
    "def recsum2(s,i,n):\n",
    "    s+=i\n",
    "    if i==n:\n",
    "        return s\n",
    "    else:\n",
    "        return recsum2(1/(i**2),i+1,n)\n",
    "n=int(input(\"enter range:\"))\n",
    "s=recsum2(0,1,n)\n",
    "print(s)\n"
   ]
  },
  {
   "cell_type": "code",
   "execution_count": null,
   "metadata": {},
   "outputs": [],
   "source": [
    "#7\n",
    "def palin(i,s):\n",
    "    if s[i]==\n",
    "    return palin(i+1,s)\n",
    "    "
   ]
  },
  {
   "cell_type": "code",
   "execution_count": null,
   "metadata": {},
   "outputs": [],
   "source": []
  }
 ],
 "metadata": {
  "kernelspec": {
   "display_name": "Python 3",
   "language": "python",
   "name": "python3"
  },
  "language_info": {
   "codemirror_mode": {
    "name": "ipython",
    "version": 3
   },
   "file_extension": ".py",
   "mimetype": "text/x-python",
   "name": "python",
   "nbconvert_exporter": "python",
   "pygments_lexer": "ipython3",
   "version": "3.7.3"
  }
 },
 "nbformat": 4,
 "nbformat_minor": 2
}
