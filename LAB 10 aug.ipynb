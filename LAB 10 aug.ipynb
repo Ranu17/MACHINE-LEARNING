{
 "cells": [
  {
   "cell_type": "code",
   "execution_count": 16,
   "metadata": {},
   "outputs": [
    {
     "name": "stdout",
     "output_type": "stream",
     "text": [
      "1 ^ 3 + 2 ^ 2 + 3 ^ 3 + 4 ^ 2 + 5 ^ 3 + 6 ^ 2 + 7 ^ 3 + 8 ^ 2 + 9 ^ 3 + 10 ^ 2 + "
     ]
    }
   ],
   "source": [
    "def ser1(i,n):\n",
    "    if i<=n:\n",
    "        if i%2==0:\n",
    "            print(i,'^ 2 + ',end=\"\")\n",
    "        else:\n",
    "            print(i,'^ 3 + ',end=\"\")\n",
    "        ser1(i+1,n)\n",
    "ser1(1,10)"
   ]
  },
  {
   "cell_type": "code",
   "execution_count": 31,
   "metadata": {},
   "outputs": [
    {
     "name": "stdout",
     "output_type": "stream",
     "text": [
      "11 ^ 3  "
     ]
    }
   ],
   "source": [
    "def ser1(i,n):\n",
    "    if i<=n:\n",
    "        ser1(i+1,n)\n",
    "    else:\n",
    "        if i%2==0:\n",
    "            print(i,'^ 2  ',end=\"\")\n",
    "        elif i%2!=0:\n",
    "            print(i,'^ 3  ',end=\"\")\n",
    "        else:\n",
    "            print(\"+\",end=\"\")\n",
    "        \n",
    "ser1(1,10)"
   ]
  },
  {
   "cell_type": "code",
   "execution_count": 24,
   "metadata": {},
   "outputs": [
    {
     "name": "stdout",
     "output_type": "stream",
     "text": [
      "enter number153\n",
      "not arms\n"
     ]
    }
   ],
   "source": [
    "def arms(s,n):\n",
    "    if n==0:\n",
    "        return s\n",
    "    \n",
    "    r=n%10\n",
    "    return (1+arms(r*r*r),n//10)\n",
    "\n",
    "\n",
    "    \n",
    "n=int(input(\"enter number\"))\n",
    "m=n\n",
    "x=arms(0,n)\n",
    "if m==x:\n",
    "    print(\"arms\")\n",
    "else:\n",
    "    print(\"not arms\")\n",
    "\n",
    "    "
   ]
  },
  {
   "cell_type": "code",
   "execution_count": 12,
   "metadata": {},
   "outputs": [
    {
     "name": "stdout",
     "output_type": "stream",
     "text": [
      "enter number:153\n",
      "armstrong\n"
     ]
    }
   ],
   "source": [
    "#2\n",
    "def arms(s,n):\n",
    "    if n==0:\n",
    "        return s\n",
    "    r=n%10\n",
    "    s+=r*r*r\n",
    "    return arms(s,n//10)\n",
    "n=int(input(\"enter number:\"))\n",
    "m=n\n",
    "x=arms(0,n)\n",
    "if m==x:\n",
    "    print(\"armstrong\")\n",
    "else:\n",
    "    print(\"not armstrong\")"
   ]
  },
  {
   "cell_type": "code",
   "execution_count": 24,
   "metadata": {},
   "outputs": [
    {
     "name": "stdout",
     "output_type": "stream",
     "text": [
      "Enter number:43\n",
      "34\n"
     ]
    }
   ],
   "source": [
    "#4\n",
    "def rever(rev,n):\n",
    "    if n==0:\n",
    "        return rev\n",
    "    r=n%10\n",
    "    return rever(rev*10+r,n//10)\n",
    "n=int(input(\"Enter number:\"))\n",
    "print(rever(0,n))"
   ]
  },
  {
   "cell_type": "code",
   "execution_count": 27,
   "metadata": {},
   "outputs": [
    {
     "name": "stdout",
     "output_type": "stream",
     "text": [
      "34\n"
     ]
    }
   ],
   "source": [
    "#4.2\n",
    "def fun(n):\n",
    "    if n>0:\n",
    "        r=n%10\n",
    "        return fun(n//10)*10 +r\n",
    "    else:\n",
    "        return 0\n",
    "print(fun(34))"
   ]
  },
  {
   "cell_type": "code",
   "execution_count": 13,
   "metadata": {},
   "outputs": [
    {
     "name": "stdout",
     "output_type": "stream",
     "text": [
      "10\n"
     ]
    }
   ],
   "source": [
    "def fun(i,n):\n",
    "    if i<n:\n",
    "        return i+fun(i+1,n)\n",
    "    else:\n",
    "        return 0\n",
    "print(fun(1,5))\n"
   ]
  },
  {
   "cell_type": "code",
   "execution_count": 22,
   "metadata": {},
   "outputs": [
    {
     "name": "stdout",
     "output_type": "stream",
     "text": [
      "574\n"
     ]
    }
   ],
   "source": [
    "x=475\n",
    "y=x\n",
    "res=0\n",
    "c=1\n",
    "while x>0:\n",
    "    r=x%10\n",
    "    x=x//10\n",
    "    #res=res+r*c\n",
    "    res=res*10+r\n",
    "    #c=c*10\n",
    "print(res)"
   ]
  },
  {
   "cell_type": "code",
   "execution_count": null,
   "metadata": {},
   "outputs": [],
   "source": []
  }
 ],
 "metadata": {
  "kernelspec": {
   "display_name": "Python 3",
   "language": "python",
   "name": "python3"
  },
  "language_info": {
   "codemirror_mode": {
    "name": "ipython",
    "version": 3
   },
   "file_extension": ".py",
   "mimetype": "text/x-python",
   "name": "python",
   "nbconvert_exporter": "python",
   "pygments_lexer": "ipython3",
   "version": "3.7.3"
  }
 },
 "nbformat": 4,
 "nbformat_minor": 2
}
