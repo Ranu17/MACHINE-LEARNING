{
 "cells": [
  {
   "cell_type": "code",
   "execution_count": 1,
   "metadata": {},
   "outputs": [
    {
     "name": "stdout",
     "output_type": "stream",
     "text": [
      "['alcohol', 'malic_acid', 'ash', 'alcalinity_of_ash', 'magnesium', 'total_phenols', 'flavanoids', 'nonflavanoid_phenols', 'proanthocyanins', 'color_intensity', 'hue', 'od280/od315_of_diluted_wines', 'proline']\n",
      "['class_0' 'class_1' 'class_2']\n",
      "Accuracy 0.9166666666666666\n",
      "[[14  0  0]\n",
      " [ 2 13  1]\n",
      " [ 0  0  6]]\n"
     ]
    }
   ],
   "source": [
    "from sklearn.naive_bayes import GaussianNB\n",
    "from sklearn import datasets\n",
    "from sklearn.model_selection import train_test_split\n",
    "from sklearn import metrics\n",
    "df=datasets.load_wine()\n",
    "nb=GaussianNB()\n",
    "print(df.feature_names)\n",
    "print(df.target_names)\n",
    "x=df.data\n",
    "y=df.target\n",
    "X_train,X_test,Y_train,Y_test=train_test_split(x,y,test_size=0.2,random_state=0)\n",
    "model=nb.fit(X_train,Y_train)\n",
    "Y_pred=model.predict(X_test)\n",
    "accuracy=metrics.accuracy_score(Y_test,Y_pred)\n",
    "print(\"Accuracy\",accuracy)\n",
    "cm=metrics.confusion_matrix(Y_test,Y_pred)\n",
    "print(cm)\n",
    "\n"
   ]
  },
  {
   "cell_type": "code",
   "execution_count": 2,
   "metadata": {},
   "outputs": [
    {
     "name": "stdout",
     "output_type": "stream",
     "text": [
      "['sepal length (cm)', 'sepal width (cm)', 'petal length (cm)', 'petal width (cm)']\n",
      "['setosa' 'versicolor' 'virginica']\n",
      "Accuracy 0.9666666666666667\n",
      "[[11  0  0]\n",
      " [ 0 13  0]\n",
      " [ 0  1  5]]\n"
     ]
    }
   ],
   "source": [
    "from sklearn.naive_bayes import GaussianNB\n",
    "from sklearn import datasets\n",
    "from sklearn.model_selection import train_test_split\n",
    "from sklearn import metrics\n",
    "df=datasets.load_iris()\n",
    "nb=GaussianNB()\n",
    "print(df.feature_names)\n",
    "print(df.target_names)\n",
    "x=df.data\n",
    "y=df.target\n",
    "X_train,X_test,Y_train,Y_test=train_test_split(x,y,test_size=0.2,random_state=0)\n",
    "model=nb.fit(X_train,Y_train)\n",
    "Y_pred=model.predict(X_test)\n",
    "accuracy=metrics.accuracy_score(Y_test,Y_pred)\n",
    "print(\"Accuracy\",accuracy)\n",
    "cm=metrics.confusion_matrix(Y_test,Y_pred)\n",
    "print(cm)\n",
    "\n"
   ]
  },
  {
   "cell_type": "code",
   "execution_count": 3,
   "metadata": {},
   "outputs": [
    {
     "name": "stdout",
     "output_type": "stream",
     "text": [
      "['alcohol', 'malic_acid', 'ash', 'alcalinity_of_ash', 'magnesium', 'total_phenols', 'flavanoids', 'nonflavanoid_phenols', 'proanthocyanins', 'color_intensity', 'hue', 'od280/od315_of_diluted_wines', 'proline']\n",
      "['class_0' 'class_1' 'class_2']\n",
      "Accuracy 0.9166666666666666\n",
      "Confusion matrix\n",
      "[[14  0  0]\n",
      " [ 2 13  1]\n",
      " [ 0  0  6]]\n",
      "[2 0 1]\n",
      "[0 3 0]\n",
      "[14 13  6]\n",
      "[20 20 29]\n"
     ]
    }
   ],
   "source": [
    "import numpy as np\n",
    "from sklearn.naive_bayes import GaussianNB\n",
    "from sklearn import datasets\n",
    "from sklearn.model_selection import train_test_split\n",
    "from sklearn import metrics\n",
    "df=datasets.load_wine()\n",
    "nb=GaussianNB()\n",
    "print(df.feature_names)\n",
    "print(df.target_names)\n",
    "x=df.data\n",
    "y=df.target\n",
    "X_train,X_test,Y_train,Y_test=train_test_split(x,y,test_size=0.2,random_state=0)\n",
    "model=nb.fit(X_train,Y_train)\n",
    "Y_pred=model.predict(X_test)\n",
    "accuracy=metrics.accuracy_score(Y_test,Y_pred)\n",
    "print(\"Accuracy\",accuracy)\n",
    "cm=metrics.confusion_matrix(Y_test,Y_pred)\n",
    "print(\"Confusion matrix\")\n",
    "print(cm)\n",
    "fp=cm.sum(axis=0)-np.diag(cm)\n",
    "print(fp)\n",
    "fn=cm.sum(axis=1)-np.diag(cm)\n",
    "print(fn)\n",
    "tp=np.diag(cm)\n",
    "print(tp)\n",
    "tn=cm.sum()-fn-fp-tp\n",
    "print(tn)"
   ]
  }
 ],
 "metadata": {
  "kernelspec": {
   "display_name": "Python 3",
   "language": "python",
   "name": "python3"
  },
  "language_info": {
   "codemirror_mode": {
    "name": "ipython",
    "version": 3
   },
   "file_extension": ".py",
   "mimetype": "text/x-python",
   "name": "python",
   "nbconvert_exporter": "python",
   "pygments_lexer": "ipython3",
   "version": "3.7.3"
  }
 },
 "nbformat": 4,
 "nbformat_minor": 2
}
