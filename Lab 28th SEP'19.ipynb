{
 "cells": [
  {
   "cell_type": "markdown",
   "metadata": {},
   "source": [
    "# KNN IRIS DATASET"
   ]
  },
  {
   "cell_type": "markdown",
   "metadata": {},
   "source": [
    "changing value of attribute n_neighbors in Class KNN"
   ]
  },
  {
   "cell_type": "code",
   "execution_count": 9,
   "metadata": {},
   "outputs": [],
   "source": [
    "from sklearn.neighbors import KNeighborsClassifier\n",
    "from sklearn import datasets\n",
    "from sklearn.model_selection import train_test_split\n",
    "from sklearn import metrics\n",
    "import numpy as np"
   ]
  },
  {
   "cell_type": "code",
   "execution_count": 83,
   "metadata": {},
   "outputs": [],
   "source": [
    "ds = datasets.load_iris()\n",
    "#knn = KNeighborsClassifier()\n",
    "knn = KNeighborsClassifier(n_neighbors=4)"
   ]
  },
  {
   "cell_type": "code",
   "execution_count": 84,
   "metadata": {},
   "outputs": [],
   "source": [
    "x=ds.data\n",
    "y=ds.target"
   ]
  },
  {
   "cell_type": "code",
   "execution_count": 85,
   "metadata": {},
   "outputs": [],
   "source": [
    "x_train,x_test,y_train,y_test = train_test_split(x,y,test_size=0.2,random_state=0)"
   ]
  },
  {
   "cell_type": "code",
   "execution_count": 86,
   "metadata": {},
   "outputs": [],
   "source": [
    "model = knn.fit(x_train,y_train)"
   ]
  },
  {
   "cell_type": "code",
   "execution_count": 87,
   "metadata": {},
   "outputs": [],
   "source": [
    "y_pred = model.predict(x_test)"
   ]
  },
  {
   "cell_type": "code",
   "execution_count": 88,
   "metadata": {},
   "outputs": [],
   "source": [
    "accuracy = metrics.accuracy_score(y_test,y_pred)"
   ]
  },
  {
   "cell_type": "code",
   "execution_count": 89,
   "metadata": {},
   "outputs": [
    {
     "name": "stdout",
     "output_type": "stream",
     "text": [
      "ACCURACY 1.0\n"
     ]
    }
   ],
   "source": [
    "print(\"ACCURACY\",accuracy)"
   ]
  },
  {
   "cell_type": "code",
   "execution_count": 90,
   "metadata": {},
   "outputs": [],
   "source": [
    "cm=metrics.confusion_matrix(y_test,y_pred)"
   ]
  },
  {
   "cell_type": "code",
   "execution_count": 91,
   "metadata": {},
   "outputs": [
    {
     "name": "stdout",
     "output_type": "stream",
     "text": [
      "[[11  0  0]\n",
      " [ 0 13  0]\n",
      " [ 0  0  6]]\n"
     ]
    }
   ],
   "source": [
    "print(cm)"
   ]
  },
  {
   "cell_type": "code",
   "execution_count": 92,
   "metadata": {
    "scrolled": true
   },
   "outputs": [
    {
     "name": "stdout",
     "output_type": "stream",
     "text": [
      "[0 0 0]\n",
      "[0 0 0]\n",
      "[11 13  6]\n",
      "[19 17 24]\n",
      "\n",
      "[1. 1. 1.]\n",
      "[0. 0. 0.]\n",
      "[1. 1. 1.]\n",
      "[1. 1. 1.]\n",
      "[1. 1. 1.]\n",
      "[1. 1. 1.]\n",
      "[1. 1. 1.]\n"
     ]
    }
   ],
   "source": [
    "fp=cm.sum(axis=0)-np.diag(cm)\n",
    "print(fp)\n",
    "fn=cm.sum(axis=1)-np.diag(cm)\n",
    "print(fn)\n",
    "tp=np.diag(cm)\n",
    "print(tp)\n",
    "tn=cm.sum()-(fn+fp+tp)\n",
    "print(tn)\n",
    "accuracy=((tp+tn) / (tp+tn+fn+fp))\n",
    "misclassification=(fp+fn)/(tp+tn+fp+fn)\n",
    "sensitivity=tp/(tp+fn)\n",
    "specificity=tn/(tn+fp)\n",
    "precision=tp/(tp+fp)\n",
    "fmeasure=(2*precision*sensitivity)/(precision+sensitivity)\n",
    "fbeta=(1.25*precision*sensitivity)/(.25*precision+sensitivity)\n",
    "print()\n",
    "print(accuracy)\n",
    "print(misclassification)\n",
    "print(sensitivity)\n",
    "print(specificity)\n",
    "print(precision)\n",
    "print(fmeasure)\n",
    "print(fbeta)"
   ]
  },
  {
   "cell_type": "markdown",
   "metadata": {},
   "source": [
    "# KNN WINE DATASET"
   ]
  },
  {
   "cell_type": "markdown",
   "metadata": {},
   "source": [
    "changing value of attribute n_neighbors in Class KNN"
   ]
  },
  {
   "cell_type": "code",
   "execution_count": 72,
   "metadata": {},
   "outputs": [
    {
     "name": "stdout",
     "output_type": "stream",
     "text": [
      "ACCURACY 0.75\n",
      "[[12  2  0]\n",
      " [ 0 13  3]\n",
      " [ 1  3  2]]\n",
      "[1 5 3]\n",
      "[2 3 4]\n",
      "[12 13  2]\n",
      "[21 15 27]\n",
      "\n",
      "[0.91666667 0.77777778 0.80555556]\n",
      "[0.08333333 0.22222222 0.19444444]\n",
      "[0.85714286 0.8125     0.33333333]\n",
      "[0.95454545 0.75       0.9       ]\n",
      "[0.92307692 0.72222222 0.4       ]\n",
      "[0.88888889 0.76470588 0.36363636]\n",
      "[0.90909091 0.73863636 0.38461538]\n"
     ]
    }
   ],
   "source": [
    "ds = datasets.load_wine()\n",
    "# knn = KNeighborsClassifier()\n",
    "knn = KNeighborsClassifier(n_neighbors=4)\n",
    "x=ds.data\n",
    "y=ds.target\n",
    "x_train,x_test,y_train,y_test = train_test_split(x,y,test_size=0.2,random_state=0)\n",
    "\n",
    "model = knn.fit(x_train,y_train)\n",
    "\n",
    "y_pred = model.predict(x_test)\n",
    "\n",
    "accuracy = metrics.accuracy_score(y_test,y_pred)\n",
    "\n",
    "print(\"ACCURACY\",accuracy)\n",
    "\n",
    "cm=metrics.confusion_matrix(y_test,y_pred)\n",
    "\n",
    "print(cm)\n",
    "\n",
    "fp=cm.sum(axis=0)-np.diag(cm)\n",
    "print(fp)\n",
    "fn=cm.sum(axis=1)-np.diag(cm)\n",
    "print(fn)\n",
    "tp=np.diag(cm)\n",
    "print(tp)\n",
    "tn=cm.sum()-(fn+fp+tp)\n",
    "print(tn)\n",
    "accuracy=((tp+tn) / (tp+tn+fn+fp))\n",
    "misclassification=(fp+fn)/(tp+tn+fp+fn)\n",
    "sensitivity=tp/(tp+fn)\n",
    "specificity=tn/(tn+fp)\n",
    "precision=tp/(tp+fp)\n",
    "fmeasure=(2*precision*sensitivity)/(precision+sensitivity)\n",
    "fbeta=(1.25*precision*sensitivity)/(.25*precision+sensitivity)\n",
    "print()\n",
    "print(accuracy)\n",
    "print(misclassification)\n",
    "print(sensitivity)\n",
    "print(specificity)\n",
    "print(precision)\n",
    "print(fmeasure)\n",
    "print(fbeta)"
   ]
  },
  {
   "cell_type": "code",
   "execution_count": null,
   "metadata": {},
   "outputs": [],
   "source": []
  },
  {
   "cell_type": "code",
   "execution_count": null,
   "metadata": {},
   "outputs": [],
   "source": []
  }
 ],
 "metadata": {
  "kernelspec": {
   "display_name": "Python 3",
   "language": "python",
   "name": "python3"
  },
  "language_info": {
   "codemirror_mode": {
    "name": "ipython",
    "version": 3
   },
   "file_extension": ".py",
   "mimetype": "text/x-python",
   "name": "python",
   "nbconvert_exporter": "python",
   "pygments_lexer": "ipython3",
   "version": "3.7.3"
  }
 },
 "nbformat": 4,
 "nbformat_minor": 2
}
