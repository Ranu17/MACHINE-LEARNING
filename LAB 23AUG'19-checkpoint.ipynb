{
 "cells": [
  {
   "cell_type": "markdown",
   "metadata": {},
   "source": [
    "# Normalization and Denormalization"
   ]
  },
  {
   "cell_type": "code",
   "execution_count": 49,
   "metadata": {},
   "outputs": [],
   "source": [
    "x =[-45,-32,12,23,1,14,-5,9,-10,2]"
   ]
  },
  {
   "cell_type": "code",
   "execution_count": 50,
   "metadata": {},
   "outputs": [],
   "source": [
    "max_n=1\n",
    "min_n=-1\n",
    "max_d=max(x)\n",
    "min_d=min(x)\n",
    "y=[]"
   ]
  },
  {
   "cell_type": "markdown",
   "metadata": {},
   "source": [
    "Normalize"
   ]
  },
  {
   "cell_type": "code",
   "execution_count": 51,
   "metadata": {},
   "outputs": [],
   "source": [
    "for i in x:\n",
    "    z=((i - min_d)*(max_n - min_n)/(max_d - min_d)) + min_n\n",
    "    y.append(z)"
   ]
  },
  {
   "cell_type": "code",
   "execution_count": 52,
   "metadata": {},
   "outputs": [
    {
     "name": "stdout",
     "output_type": "stream",
     "text": [
      "[-1.0, -0.6176470588235294, 0.6764705882352942, 1.0, 0.3529411764705883, 0.7352941176470589, 0.17647058823529416, 0.588235294117647, 0.02941176470588225, 0.38235294117647056]\n"
     ]
    }
   ],
   "source": [
    " print(y)"
   ]
  },
  {
   "cell_type": "markdown",
   "metadata": {},
   "source": [
    "Denormalize"
   ]
  },
  {
   "cell_type": "code",
   "execution_count": 53,
   "metadata": {},
   "outputs": [],
   "source": [
    "x_1 = []\n",
    "for i in y:\n",
    "    z1=((i*(max_d-min_d))-min_n*(max_d-min_d))/(max_n - min_n) + min_d\n",
    "    x_1.append(z1)"
   ]
  },
  {
   "cell_type": "code",
   "execution_count": 54,
   "metadata": {},
   "outputs": [
    {
     "name": "stdout",
     "output_type": "stream",
     "text": [
      "[-45.0, -32.0, 12.0, 23.0, 1.0, 14.0, -5.0, 9.0, -10.0, 2.0]\n"
     ]
    }
   ],
   "source": [
    " print(x_1)"
   ]
  },
  {
   "cell_type": "markdown",
   "metadata": {},
   "source": [
    "Changing scale"
   ]
  },
  {
   "cell_type": "code",
   "execution_count": 55,
   "metadata": {},
   "outputs": [],
   "source": [
    "max_n=3\n",
    "min_n=-3\n",
    "max_d=max(x)\n",
    "min_d=min(x)\n",
    "y=[]"
   ]
  },
  {
   "cell_type": "code",
   "execution_count": 56,
   "metadata": {},
   "outputs": [],
   "source": [
    "for i in x:\n",
    "    z=((i - min_d)*(max_n - min_n)/(max_d - min_d)) + min_n\n",
    "    y.append(z)"
   ]
  },
  {
   "cell_type": "code",
   "execution_count": 57,
   "metadata": {
    "collapsed": true
   },
   "outputs": [
    {
     "name": "stdout",
     "output_type": "stream",
     "text": [
      "[-3.0, -1.8529411764705883, 2.0294117647058822, 3.0, 1.0588235294117645, 2.2058823529411766, 0.5294117647058822, 1.7647058823529411, 0.08823529411764719, 1.1470588235294121]\n"
     ]
    }
   ],
   "source": [
    " print(y)"
   ]
  },
  {
   "cell_type": "code",
   "execution_count": 58,
   "metadata": {},
   "outputs": [],
   "source": [
    "x_1 = []\n",
    "for i in y:\n",
    "    z1=((i*(max_d-min_d))-min_n*(max_d-min_d))/(max_n - min_n) + min_d\n",
    "    x_1.append(z1)"
   ]
  },
  {
   "cell_type": "code",
   "execution_count": 59,
   "metadata": {
    "collapsed": true
   },
   "outputs": [
    {
     "name": "stdout",
     "output_type": "stream",
     "text": [
      "[-45.0, -32.0, 12.0, 23.0, 1.0, 14.0, -5.0, 9.0, -10.0, 2.0]\n"
     ]
    }
   ],
   "source": [
    " print(x_1)"
   ]
  },
  {
   "cell_type": "code",
   "execution_count": null,
   "metadata": {},
   "outputs": [],
   "source": []
  }
 ],
 "metadata": {
  "kernelspec": {
   "display_name": "Python 3",
   "language": "python",
   "name": "python3"
  },
  "language_info": {
   "codemirror_mode": {
    "name": "ipython",
    "version": 3
   },
   "file_extension": ".py",
   "mimetype": "text/x-python",
   "name": "python",
   "nbconvert_exporter": "python",
   "pygments_lexer": "ipython3",
   "version": "3.7.3"
  }
 },
 "nbformat": 4,
 "nbformat_minor": 2
}
