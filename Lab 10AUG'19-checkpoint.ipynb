{
 "cells": [
  {
   "cell_type": "markdown",
   "metadata": {},
   "source": [
    "# QUESTIONS"
   ]
  },
  {
   "cell_type": "markdown",
   "metadata": {},
   "source": [
    "1.WARF to generate a series 1^3 + 2^2+ 3^3 +4^2\n",
    "\n",
    "2.WARF to check if a number is armstrong or not\n",
    "\n",
    "3.WARF to generate pascal pyramid\n",
    "\n",
    "4.WARF to generate reverse of a number\n"
   ]
  },
  {
   "cell_type": "code",
   "execution_count": 13,
   "metadata": {},
   "outputs": [
    {
     "name": "stdout",
     "output_type": "stream",
     "text": [
      "1 ^ 3 + 2 ^ 2 + 3 ^ 3 + 4 ^ 2 + 5 ^ 3 "
     ]
    }
   ],
   "source": [
    "#A1\n",
    "\n",
    "def series(n,i):\n",
    "    if i>n:\n",
    "        return 1\n",
    "    else:\n",
    "        if i%2!=0:\n",
    "            print(i,\"^\",3,end=\" \")\n",
    "        else:\n",
    "            print(i,\"^\",2,end=\" \")\n",
    "        if i <n :\n",
    "            print(\"+\",end=\" \")\n",
    "    series(n,i+1)\n",
    "\n",
    "series(5,1)"
   ]
  },
  {
   "cell_type": "code",
   "execution_count": 10,
   "metadata": {},
   "outputs": [
    {
     "name": "stdout",
     "output_type": "stream",
     "text": [
      "Enter n    153\n",
      "153 IS ARMSTRONG\n"
     ]
    }
   ],
   "source": [
    "#A2\n",
    "\n",
    "def armstrong(n,r,num,sumnum):\n",
    "    if r == 0:\n",
    "        if sumnum==n:\n",
    "            return 1\n",
    "        else:\n",
    "            return 0\n",
    "    else:\n",
    "        r=num%10\n",
    "        num=num//10\n",
    "        sumnum+=r**3\n",
    "        return armstrong(n,r,num,sumnum)\n",
    "\n",
    "n=int(input(\"Enter n    \"))\n",
    "sumnum=armstrong(n,1000000000,n,0)  \n",
    "\n",
    "if sumnum==1:\n",
    "    print(n,\"IS ARMSTRONG\")\n",
    "else:\n",
    "    print(\"NOT AN ARMSTRONG\")"
   ]
  },
  {
   "cell_type": "code",
   "execution_count": 35,
   "metadata": {},
   "outputs": [
    {
     "name": "stdout",
     "output_type": "stream",
     "text": [
      "        1 \n",
      "      1 2 1 \n",
      "    1 2 3 2 1 \n",
      "  1 2 3 4 3 2 1 \n",
      "1 2 3 4 5 4 3 2 1 \n"
     ]
    }
   ],
   "source": [
    "#A3\n",
    "\n",
    "def pascalTriangle(n,i):\n",
    "    if i>n:\n",
    "        return\n",
    "    else:\n",
    "        for j in range(0,n//2-i + 3):\n",
    "            print(\" \",end=\" \")\n",
    "        for k in range(1,i+1):\n",
    "            print(k,end=\" \")\n",
    "        for l in range(i-1,0,-1):\n",
    "            print(l,end=\" \")\n",
    "        #print(1,end=\" \")\n",
    "        \n",
    "        #if i!=1:\n",
    "          #  print(1,end=\" \")\n",
    "        print()\n",
    "        pascalTriangle(n,i+1)\n",
    "pascalTriangle(5,1)"
   ]
  },
  {
   "cell_type": "code",
   "execution_count": 13,
   "metadata": {},
   "outputs": [
    {
     "name": "stdout",
     "output_type": "stream",
     "text": [
      "Enter n    123\n",
      "3 2 1 "
     ]
    },
    {
     "data": {
      "text/plain": [
       "1"
      ]
     },
     "execution_count": 13,
     "metadata": {},
     "output_type": "execute_result"
    }
   ],
   "source": [
    "#A4\n",
    "\n",
    "def reverseofnumber(n,r,num,sumnum):\n",
    "    if r == 0:\n",
    "        return 1\n",
    "    else:\n",
    "        r=num%10\n",
    "        num=num//10\n",
    "        if r !=0:\n",
    "            print(r,end=\" \")\n",
    "        return reverseofnumber(n,r,num,sumnum)\n",
    "\n",
    "n=int(input(\"Enter n    \"))\n",
    "reverseofnumber(n,1000000000,n,0)"
   ]
  }
 ],
 "metadata": {
  "kernelspec": {
   "display_name": "Python 3",
   "language": "python",
   "name": "python3"
  },
  "language_info": {
   "codemirror_mode": {
    "name": "ipython",
    "version": 3
   },
   "file_extension": ".py",
   "mimetype": "text/x-python",
   "name": "python",
   "nbconvert_exporter": "python",
   "pygments_lexer": "ipython3",
   "version": "3.7.3"
  }
 },
 "nbformat": 4,
 "nbformat_minor": 2
}
